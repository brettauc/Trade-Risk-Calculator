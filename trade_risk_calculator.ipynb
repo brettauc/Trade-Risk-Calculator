{
 "cells": [
  {
   "cell_type": "code",
   "execution_count": 182,
   "metadata": {},
   "outputs": [],
   "source": [
    "# future contract symbol and point value\n",
    "futures = {'DX': 1000.00, 'BTC': 5.00,'6B': 62500.00,'6C': 1000000.00,'6J': 125000.00,'6S': 125000.00,'6E': 125000.00,\n",
    "           '6A': 1000000.00,'6M': 500000.00, '6N': 100000.00, '6Z': 500000.00, '6L': 100000.00, '6R': 500000.00,\n",
    "           'CL': 1000.00,'HO': 42000.00,'RB': 42000.00,'NG': 10000.00,'BZ': 1000.00,'EH': 29000.00,\n",
    "           'ZB': 1000.00,'UB': 1000.00,'ZN': 1000.00,'TN': 1000.00,'ZF': 1000.00,'ZT': 2000.00, 'ZQ': 4167.00,'GE': 2500.00,\n",
    "           'ZC': 50.00,'ZS': 50.00,'ZM': 100.00,'ZL': 600.00,'ZW': 50.00,'KE': 50.00,'MWE': 50.00,'ZO': 50.00,'ZR': 2000.00,'RS': 20.00,\n",
    "           'ES': 50.00,'NQ': 20.00,'YM': 5.00,'RTY': 50.00,'EMD': 100.00,'VX': 1000.00,'GD': 250.00,\n",
    "           'LE': 400.00,'GF': 500.00,'HE': 400.00,'DL': 2000.00,\n",
    "           'GC': 100.00,'SI': 5000.00,'HG': 25000,'PL':50.00,'PA': 100.00,\n",
    "           'CT': 500.00,'OJ': 150.00,'KC': 375.00,'SB': 1120.00,'CC': 10.00, 'LS': 110.00\n",
    "          }"
   ]
  },
  {
   "cell_type": "markdown",
   "metadata": {},
   "source": [
    "### Get futures contract trade risk amount"
   ]
  },
  {
   "cell_type": "code",
   "execution_count": 193,
   "metadata": {},
   "outputs": [
    {
     "name": "stdin",
     "output_type": "stream",
     "text": [
      "Ticker Symbol: ES\n",
      "Entry Price: 3000\n",
      "Risk Target Price: 2990\n",
      "Number of Contract: 2\n"
     ]
    },
    {
     "name": "stdout",
     "output_type": "stream",
     "text": [
      "The total risk on your trade is $1000.00\n",
      "The per contract risk on your trade is $500.00\n"
     ]
    }
   ],
   "source": [
    "# create inputs\n",
    "# need to be able to enter a ticker symbol or pick it from a list\n",
    "ticker = input('Ticker Symbol:').upper()\n",
    "\n",
    "# create point value variable set to ticker key value\n",
    "point_value = futures[ticker]\n",
    "\n",
    "# need to be able to enter trade entry price\n",
    "entry_price = float(input('Entry Price:'))\n",
    "\n",
    "# need to be able to enter stop loss target price\n",
    "stop_loss = float(input('Risk Target Price:'))\n",
    "\n",
    "# need to be able to enter the number of contracts\n",
    "num_contracts = float(input('Number of Contract:'))\n",
    "\n",
    "# subtract the entry price from the stop loss price then\n",
    "risk_per_contract = abs((entry_price - stop_loss) * point_value)\n",
    "\n",
    "# get total risk\n",
    "risk_total = abs(risk_per_contract * num_contracts)\n",
    "\n",
    "# create output variables\n",
    "# total risk\n",
    "print(f'The total risk on your trade is ${risk_total:.2f}')\n",
    "# per contract risk\n",
    "print(f'The per contract risk on your trade is ${risk_per_contract:.2f}')\n",
    "\n",
    "## keep in cass needed but plan to put on dashboard where use would type in the ticker and it search list - DELETE ONCE LIST IS WORKING ON DASHBOARD\n",
    "# verify entered ticker is in the dictionary and set point_value to ticker value in dictionary\n",
    "# 1st option\n",
    "# while ticker in futures:\n",
    "#         point_value = futures[ticker]\n",
    "# else:\n",
    "#     print(f'{ticker} is not in our database.')\n",
    "#     ticker = input('Ticker Symbol:').upper()\n",
    "\n",
    "# 2nd option\n",
    "# if ticker in futures:\n",
    "#     point_value = futures[ticker]\n",
    "# else:\n",
    "#     print(f'{ticker} is not in our database.')\n",
    "\n",
    "# get risk per contract\n",
    "#     risk_per_contract = abs((risk_points / trade_tick_size) * trade_tick_value)"
   ]
  },
  {
   "cell_type": "markdown",
   "metadata": {},
   "source": [
    "### Get stop loss target for trade"
   ]
  },
  {
   "cell_type": "code",
   "execution_count": 196,
   "metadata": {},
   "outputs": [
    {
     "name": "stdin",
     "output_type": "stream",
     "text": [
      "Ticker Symbol: es\n",
      "Entry Price: 3000\n",
      "Number of Contract: 1\n",
      "Total Risk for Trade($): 50\n",
      "Long or Short trade (L or S): s\n"
     ]
    },
    {
     "name": "stdout",
     "output_type": "stream",
     "text": [
      "Stop Loss should be set at $3001.0000000 for $50.00 total trade risk\n",
      "Your per contract risk on your trade is $50.00\n"
     ]
    }
   ],
   "source": [
    "# input for ticker\n",
    "ticker = input('Ticker Symbol:').upper()\n",
    "\n",
    "# create point value variable set to ticker's dick key value\n",
    "point_value = futures[ticker]\n",
    "\n",
    "# input entry point\n",
    "entry_price = float(input('Entry Price:'))\n",
    "\n",
    "# need to be able to enter the number of contracts\n",
    "num_contracts = float(input('Number of Contract:'))\n",
    "\n",
    "# input risk amount (per contract or total?)\n",
    "risk_total = float(input('Total Risk for Trade($):'))\n",
    "\n",
    "# is the trade long or short\n",
    "long_short = input('Long or Short trade (L or S):').upper()\n",
    "\n",
    "# determine stop location\n",
    "if long_short == 'L':\n",
    "    stop_loss = abs(entry_price - (risk_total / point_value))\n",
    "else:\n",
    "    stop_loss = abs(entry_price + (risk_total / point_value))\n",
    "\n",
    "# get per contract risk\n",
    "risk_per_contract = (point_value * (risk_total / point_value) / num_contracts)\n",
    "    \n",
    "# create output variables\n",
    "print(f'Stop Loss should be set at ${stop_loss:.7f} for ${risk_total:.2f} total trade risk')\n",
    "print(f'Your per contract risk on your trade is ${risk_per_contract:.2f}')"
   ]
  },
  {
   "cell_type": "code",
   "execution_count": null,
   "metadata": {},
   "outputs": [],
   "source": []
  },
  {
   "cell_type": "code",
   "execution_count": null,
   "metadata": {},
   "outputs": [],
   "source": []
  }
 ],
 "metadata": {
  "kernelspec": {
   "display_name": "Python 3",
   "language": "python",
   "name": "python3"
  },
  "language_info": {
   "codemirror_mode": {
    "name": "ipython",
    "version": 3
   },
   "file_extension": ".py",
   "mimetype": "text/x-python",
   "name": "python",
   "nbconvert_exporter": "python",
   "pygments_lexer": "ipython3",
   "version": "3.7.7"
  }
 },
 "nbformat": 4,
 "nbformat_minor": 4
}
