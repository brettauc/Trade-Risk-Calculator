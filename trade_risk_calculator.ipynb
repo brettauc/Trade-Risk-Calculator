{
 "cells": [
  {
   "cell_type": "code",
   "execution_count": 211,
   "metadata": {},
   "outputs": [],
   "source": [
    "# future contract symbol and point value\n",
    "futures = {'DX': 1000.00, 'BTC': 5.00,'6B': 62500.00,'6C': 1000000.00,'6J': 125000.00,'6S': 125000.00,'6E': 125000.00,\n",
    "           '6A': 1000000.00,'6M': 500000.00, '6N': 100000.00, '6Z': 500000.00, '6L': 100000.00, '6R': 500000.00,\n",
    "           'CL': 1000.00,'HO': 42000.00,'RB': 42000.00,'NG': 10000.00,'BZ': 1000.00,'EH': 29000.00,\n",
    "           'ZB': 1000.00,'UB': 1000.00,'ZN': 1000.00,'TN': 1000.00,'ZF': 1000.00,'ZT': 2000.00, 'ZQ': 4167.00,'GE': 2500.00,\n",
    "           'ZC': 50.00,'ZS': 50.00,'ZM': 100.00,'ZL': 600.00,'ZW': 50.00,'KE': 50.00,'MWE': 50.00,'ZO': 50.00,'ZR': 2000.00,'RS': 20.00,\n",
    "           'ES': 50.00,'NQ': 20.00,'YM': 5.00,'RTY': 50.00,'EMD': 100.00,'VX': 1000.00,'GD': 250.00,\n",
    "           'LE': 400.00,'GF': 500.00,'HE': 400.00,'DL': 2000.00,\n",
    "           'GC': 100.00,'SI': 5000.00,'HG': 25000,'PL':50.00,'PA': 100.00,\n",
    "           'CT': 500.00,'OJ': 150.00,'KC': 375.00,'SB': 1120.00,'CC': 10.00, 'LS': 110.00\n",
    "          }"
   ]
  },
  {
   "cell_type": "markdown",
   "metadata": {},
   "source": [
    "## Get futures contract trade risk amount"
   ]
  },
  {
   "cell_type": "code",
   "execution_count": 276,
   "metadata": {},
   "outputs": [
    {
     "name": "stdin",
     "output_type": "stream",
     "text": [
      "Ticker Symbol: es\n",
      "Entry Price: 3000\n",
      "Exit Price: 2995\n",
      "Number of Contract: 2\n"
     ]
    },
    {
     "name": "stdout",
     "output_type": "stream",
     "text": [
      "The total risk on the trade is $500.0\n",
      "The per contract risk on the trade is $250.0\n"
     ]
    }
   ],
   "source": [
    "# create inputs\n",
    "# need to be able to enter a ticker symbol or pick it from a list\n",
    "ticker = input('Ticker Symbol:').upper()\n",
    "\n",
    "# create point value variable set to ticker key value\n",
    "point_value = futures[ticker]\n",
    "\n",
    "# need to be able to enter trade entry price\n",
    "entry_price = float(input('Entry Price:'))\n",
    "\n",
    "# need to be able to enter stop loss target price\n",
    "exit_price = float(input('Exit Price:'))\n",
    "\n",
    "# need to be able to enter the number of contracts\n",
    "num_contracts = float(input('Number of Contract:'))\n",
    "\n",
    "# subtract the entry price from the stop loss price then\n",
    "risk_per_contract = abs((entry_price - exit_price) * point_value)\n",
    "\n",
    "# get total risk\n",
    "risk_total = abs(risk_per_contract * num_contracts)\n",
    "\n",
    "# create output variables\n",
    "# total risk\n",
    "print(f'The total risk on the trade is ${risk_total}')\n",
    "# per contract risk\n",
    "print(f'The per contract risk on the trade is ${risk_per_contract}')"
   ]
  },
  {
   "cell_type": "markdown",
   "metadata": {},
   "source": [
    "### Turn above code into a function"
   ]
  },
  {
   "cell_type": "code",
   "execution_count": 277,
   "metadata": {},
   "outputs": [],
   "source": [
    "# Define function to take: ticker symbol, entry price, exit price, and number of contracts\n",
    "def get_trade_risk(ticker_symbol, entry_price, exit_price, num_contracts):\n",
    "    # ticker variable\n",
    "    ticker = ticker_symbol.upper()\n",
    "    \n",
    "    # create point value variable set to ticker key value\n",
    "    point_value = futures[ticker]\n",
    "\n",
    "    # entry variable\n",
    "    entry = entry_price\n",
    "    \n",
    "    # exit variable\n",
    "    exit = exit_price\n",
    "\n",
    "    # contracts variable\n",
    "    contracts = num_contracts\n",
    "\n",
    "    # subtract the entry price from the stop loss price then\n",
    "    risk_per_contract = abs((entry - exit) * point_value)\n",
    "\n",
    "    # get total risk\n",
    "    risk_total = abs(risk_per_contract * contracts)\n",
    "\n",
    "    # create output variables\n",
    "    # total risk\n",
    "    print(f'The total risk on the trade is ${risk_total}')\n",
    "    # per contract risk\n",
    "    print(f'The per contract risk on the trade is ${risk_per_contract}')"
   ]
  },
  {
   "cell_type": "code",
   "execution_count": 278,
   "metadata": {},
   "outputs": [
    {
     "name": "stdout",
     "output_type": "stream",
     "text": [
      "The total risk on the trade is $775.0\n",
      "The per contract risk on the trade is $387.5\n"
     ]
    }
   ],
   "source": [
    "# get trade risk: enter 'ticker symbol', entry price, exit price, and number of contracts\n",
    "get_trade_risk('es',3000.25, 2992.50, 2)"
   ]
  },
  {
   "cell_type": "markdown",
   "metadata": {},
   "source": [
    "## Get stop loss target for trade"
   ]
  },
  {
   "cell_type": "code",
   "execution_count": 286,
   "metadata": {},
   "outputs": [
    {
     "name": "stdin",
     "output_type": "stream",
     "text": [
      "Ticker Symbol: CL\n",
      "Entry Price: 42.00\n",
      "Total Risk for Trade($): 150\n",
      "Number of Contract: 2\n",
      "Long or Short trade (L or S): l\n"
     ]
    },
    {
     "name": "stdout",
     "output_type": "stream",
     "text": [
      "The stop loss should be set at $41.85 for $150.0 in total trade risk\n",
      "The per contract risk on the trade is $75.0\n"
     ]
    }
   ],
   "source": [
    "# create input variables\n",
    "# input for ticker\n",
    "ticker = input('Ticker Symbol:').upper()\n",
    "\n",
    "# create point value variable set to ticker's dick key value\n",
    "point_value = futures[ticker]\n",
    "\n",
    "# input entry point\n",
    "entry = float(input('Entry Price:'))\n",
    "\n",
    "# input risk amount (per contract or total?)\n",
    "risk_total = float(input('Total Risk for Trade($):'))\n",
    "\n",
    "# need to be able to enter the number of contracts\n",
    "num_contracts = float(input('Number of Contract:'))\n",
    "\n",
    "# is the trade long or short\n",
    "long_short = input('Long or Short trade (L or S):').upper()\n",
    "\n",
    "# determine stop location\n",
    "if long_short == 'L':\n",
    "    exit = abs(entry - (risk_total / point_value))\n",
    "else:\n",
    "    exit = abs(entry + (risk_total / point_value))\n",
    "\n",
    "# get per contract risk\n",
    "risk_per_contract = (point_value * (risk_total / point_value) / num_contracts)\n",
    "\n",
    "# create output variables\n",
    "print(f'The stop loss should be set at ${exit} for ${risk_total} in total trade risk')\n",
    "print(f'The per contract risk on the trade is ${risk_per_contract}')"
   ]
  },
  {
   "cell_type": "markdown",
   "metadata": {},
   "source": [
    "### Turn above code into a function"
   ]
  },
  {
   "cell_type": "code",
   "execution_count": 287,
   "metadata": {},
   "outputs": [],
   "source": [
    "# Create function to get stop loss target based on ticker symbol, entry price, total risk, number of contracts, and whether the trade is long or short side\n",
    "def get_stop_loss_target(ticker_symbol, entry_price, total_risk, num_contracts, L_or_S):\n",
    "\n",
    "    # ticker variable\n",
    "    ticker = ticker_symbol.upper()\n",
    "\n",
    "    # create point value variable set to ticker's dick key value\n",
    "    point_value = futures[ticker]\n",
    "\n",
    "    # entry point variable\n",
    "    entry = entry_price\n",
    "\n",
    "    # total risk amount variable\n",
    "    risk_total = total_risk\n",
    "\n",
    "    # need to be able to enter the number of contracts\n",
    "    contracts = num_contracts\n",
    "    \n",
    "    # is the trade long or short\n",
    "    long_short = L_or_S.upper()\n",
    "\n",
    "    # determine stop location\n",
    "    if long_short == 'L':\n",
    "        exit = abs(entry - (risk_total / point_value))\n",
    "    else:\n",
    "        exit = abs(entry + (risk_total / point_value))\n",
    "\n",
    "    # get per contract risk\n",
    "    risk_per_contract = (point_value * (risk_total / point_value) / contracts)\n",
    "\n",
    "    # create output variables\n",
    "    print(f'The stop loss should be set at ${exit} for ${risk_total} in total trade risk')\n",
    "    print(f'The per contract risk on the trade is ${risk_per_contract}')\n",
    "    \n",
    "    return"
   ]
  },
  {
   "cell_type": "code",
   "execution_count": 288,
   "metadata": {},
   "outputs": [
    {
     "name": "stdout",
     "output_type": "stream",
     "text": [
      "The stop loss should be set at $2997.0 for $150 in total trade risk\n",
      "The per contract risk on the trade is $75.0\n"
     ]
    }
   ],
   "source": [
    "get_stop_loss_target('es', 3000, 150, 2, 'l')"
   ]
  }
 ],
 "metadata": {
  "kernelspec": {
   "display_name": "Python 3",
   "language": "python",
   "name": "python3"
  },
  "language_info": {
   "codemirror_mode": {
    "name": "ipython",
    "version": 3
   },
   "file_extension": ".py",
   "mimetype": "text/x-python",
   "name": "python",
   "nbconvert_exporter": "python",
   "pygments_lexer": "ipython3",
   "version": "3.7.7"
  }
 },
 "nbformat": 4,
 "nbformat_minor": 4
}
