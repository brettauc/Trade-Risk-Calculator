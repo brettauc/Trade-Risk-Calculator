{
 "cells": [
  {
   "cell_type": "code",
   "execution_count": 1,
   "metadata": {},
   "outputs": [],
   "source": [
    "# create a dictionary to hold tickers, min tick size, and tick value\n",
    "futures = {'ES': {'tick_size': 0.25,\n",
    "               'tick_value': 12.50},\n",
    "          'NQ': {'tick_size': 0.25, \n",
    "              'tick_value': 5.00},\n",
    "          'YM': {'tick_size': 1.00,\n",
    "              'tick_value': 5.00},\n",
    "          'CL': {'tick_size': 0.01,\n",
    "              'tick_value': 10.00}\n",
    "          }"
   ]
  },
  {
   "cell_type": "markdown",
   "metadata": {},
   "source": [
    "### Get futures contract trade risk amount"
   ]
  },
  {
   "cell_type": "code",
   "execution_count": 5,
   "metadata": {},
   "outputs": [
    {
     "name": "stdin",
     "output_type": "stream",
     "text": [
      "Ticker Symbol: es\n",
      "Entry Price: 3100\n",
      "Risk Target Price: 3099\n",
      "Number of Contract: 10\n"
     ]
    },
    {
     "name": "stdout",
     "output_type": "stream",
     "text": [
      "The total risk on your trade is $500.00\n",
      "The per contract risk on your trade is $50.00\n"
     ]
    }
   ],
   "source": [
    "# create input variables for tick size and tick value\n",
    "trade_tick_size = 0.00\n",
    "trade_tick_value = 0.00\n",
    "\n",
    "# create inputs\n",
    "# need to be able to enter a ticker symbol or pick it from a list\n",
    "ticker = input('Ticker Symbol:')\n",
    "\n",
    "# get tick size and tick value for ticker symbol that was input\n",
    "for key, value in futures.items():\n",
    "    if ticker.upper() == key:\n",
    "        trade_tick_size = value['tick_size']\n",
    "        trade_tick_value = value['tick_value']\n",
    "    else:\n",
    "        break\n",
    "        \n",
    "    # need to be able to enter trade entry price\n",
    "    entry_price = float(input('Entry Price:'))\n",
    "\n",
    "    # need to be able to enter stop loss target price\n",
    "    stop_loss = float(input('Risk Target Price:'))\n",
    "\n",
    "    # need to be able to enter the number of contracts\n",
    "    num_contracts = float(input('Number of Contract:'))\n",
    "\n",
    "    # subtract the entry price from the stop loss price then\n",
    "    risk_points = entry_price - stop_loss\n",
    "\n",
    "    # get risk per contract\n",
    "    risk_per_contract = abs((risk_points / trade_tick_size) * trade_tick_value)\n",
    "\n",
    "    # get total risk\n",
    "    risk_total = abs(risk_per_contract * num_contracts)\n",
    "\n",
    "    # create output variables\n",
    "    # total risk\n",
    "    print(f'The total risk on your trade is ${risk_total:.2f}')\n",
    "    # per contract risk\n",
    "    print(f'The per contract risk on your trade is ${risk_per_contract:.2f}')"
   ]
  },
  {
   "cell_type": "code",
   "execution_count": null,
   "metadata": {},
   "outputs": [],
   "source": [
    "# # WORK ON THIS NEXT\n",
    "# - determine if in need to know if the trade is long or short\n",
    "# - put a message if the ticker symbol is not in the dictionary\n",
    "# - create dashboard\n",
    "# - how to put this online or in an app"
   ]
  },
  {
   "cell_type": "code",
   "execution_count": null,
   "metadata": {},
   "outputs": [],
   "source": []
  }
 ],
 "metadata": {
  "kernelspec": {
   "display_name": "Python 3",
   "language": "python",
   "name": "python3"
  },
  "language_info": {
   "codemirror_mode": {
    "name": "ipython",
    "version": 3
   },
   "file_extension": ".py",
   "mimetype": "text/x-python",
   "name": "python",
   "nbconvert_exporter": "python",
   "pygments_lexer": "ipython3",
   "version": "3.7.7"
  }
 },
 "nbformat": 4,
 "nbformat_minor": 4
}
